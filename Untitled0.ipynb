{
  "nbformat": 4,
  "nbformat_minor": 0,
  "metadata": {
    "colab": {
      "provenance": [],
      "authorship_tag": "ABX9TyNDSIEYZR/YKpbnJGEx4cfl",
      "include_colab_link": true
    },
    "kernelspec": {
      "name": "python3",
      "display_name": "Python 3"
    },
    "language_info": {
      "name": "python"
    }
  },
  "cells": [
    {
      "cell_type": "markdown",
      "metadata": {
        "id": "view-in-github",
        "colab_type": "text"
      },
      "source": [
        "<a href=\"https://colab.research.google.com/github/sunny12309/fckee/blob/main/Untitled0.ipynb\" target=\"_parent\"><img src=\"https://colab.research.google.com/assets/colab-badge.svg\" alt=\"Open In Colab\"/></a>"
      ]
    },
    {
      "cell_type": "code",
      "execution_count": null,
      "metadata": {
        "colab": {
          "base_uri": "https://localhost:8080/"
        },
        "id": "gMrFru2nmsLZ",
        "outputId": "0c3e0570-a796-416c-a1de-c985ac6d25dd"
      },
      "outputs": [
        {
          "name": "stdout",
          "output_type": "stream",
          "text": [
            "enter x6\n",
            "enter y7\n",
            "enter x5\n",
            "  \n",
            "enter x3\n",
            "enter y4\n"
          ]
        }
      ],
      "source": [
        " while True:\n",
        "    x = int(input(\"enter x\"))\n",
        "    y = int(input(\"enter y\"))\n",
        "    c = input(\"enter x\")\n",
        "    if c == \"*\":\n",
        "       print(x*y)\n",
        "    elif c == \"/\":\n",
        "       print(x/y)\n",
        "    else:\n",
        "      print(\"  \")"
      ]
    }
  ]
}